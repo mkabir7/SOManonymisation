{
 "cells": [
  {
   "cell_type": "markdown",
   "metadata": {},
   "source": [
    "# Take in the adult dataset, process it through 1D SOM, give back dataset with new feature being 1D cluster label"
   ]
  },
  {
   "cell_type": "markdown",
   "metadata": {},
   "source": [
    "Import the needed modules and load the dataset"
   ]
  },
  {
   "cell_type": "code",
   "execution_count": 1,
   "metadata": {},
   "outputs": [],
   "source": [
    "import pandas as pd\n",
    "import numpy  as np\n",
    "import seaborn as sns\n",
    "import matplotlib.pyplot as plt\n",
    "from scipy.stats import norm\n",
    "import tqdm\n",
    "import numba\n",
    "\n",
    "import glob\n",
    "import os\n",
    "from dataclasses import dataclass\n",
    "from typing import List, Optional\n",
    "\n",
    "from itertools import product\n",
    "\n",
    "from collections import OrderedDict\n",
    "\n",
    "from sklearn.preprocessing import minmax_scale\n",
    "\n",
    "np.random.seed(1337)"
   ]
  },
  {
   "cell_type": "markdown",
   "metadata": {},
   "source": [
    "## Load the adult dataset with minimal preprocessing\n",
    "\n",
    "### Description of adult dataset features\n",
    "\n",
    "- age: continuous.\n",
    "- workclass: Private, Self-emp-not-inc, Self-emp-inc, Federal-gov, Local-gov, State-gov, Without-pay, Never-worked.\n",
    "- fnlwgt: continuous.\n",
    "- education: Bachelors, Some-college, 11th, HS-grad, Prof-school, Assoc-acdm, Assoc-voc, 9th, 7th-8th, 12th, Masters, 1st-4th, 10th, Doctorate, 5th-6th, Preschool.\n",
    "- education-num: continuous.\n",
    "- marital-status: Married-civ-spouse, Divorced, Never-married, Separated, Widowed, Married-spouse-absent, Married-AF-spouse.\n",
    "- occupation: Tech-support, Craft-repair, Other-service, Sales, Exec-managerial, Prof-specialty, Handlers-cleaners, Machine-op-inspct, Adm-clerical, Farming-fishing, Transport-moving, Priv-house-serv, Protective-serv, Armed-Forces.\n",
    "- relationship: Wife, Own-child, Husband, Not-in-family, Other-relative, Unmarried.\n",
    "- race: White, Asian-Pac-Islander, Amer-Indian-Eskimo, Other, Black.\n",
    "- sex: Female, Male.\n",
    "- capital-gain: continuous.\n",
    "- capital-loss: continuous.\n",
    "- hours-per-week: continuous.\n",
    "- native-country: United-States, Cambodia, England, Puerto-Rico, Canada, Germany, Outlying-US(Guam-USVI-etc), India, Japan, Greece, South, China, Cuba, Iran, Honduras, Philippines, Italy, Poland, Jamaica, Vietnam, Mexico, Portugal, Ireland, France, Dominican-Republic, Laos, Ecuador, Taiwan, Haiti, Columbia, Hungary, Guatemala, Nicaragua, Scotland, Thailand, Yugoslavia, El-Salvador, Trinadad&Tobago, Peru, Hong, Holand-Netherlands.\n"
   ]
  },
  {
   "cell_type": "code",
   "execution_count": 2,
   "metadata": {},
   "outputs": [
    {
     "data": {
      "text/plain": [
       "15"
      ]
     },
     "execution_count": 2,
     "metadata": {},
     "output_type": "execute_result"
    }
   ],
   "source": [
    "column_names = ['age', 'workclass', 'fnlwgt', 'education', 'education_num', 'marital_status',\n",
    "                'occupation', 'relationship', 'race', 'sex', 'capital_gain', 'capital_loss', \n",
    "                'hours_per_week', 'native_country', 'income_class']\n",
    "\n",
    "len(column_names)"
   ]
  },
  {
   "cell_type": "code",
   "execution_count": 3,
   "metadata": {},
   "outputs": [
    {
     "data": {
      "text/html": [
       "<div>\n",
       "<style scoped>\n",
       "    .dataframe tbody tr th:only-of-type {\n",
       "        vertical-align: middle;\n",
       "    }\n",
       "\n",
       "    .dataframe tbody tr th {\n",
       "        vertical-align: top;\n",
       "    }\n",
       "\n",
       "    .dataframe thead th {\n",
       "        text-align: right;\n",
       "    }\n",
       "</style>\n",
       "<table border=\"1\" class=\"dataframe\">\n",
       "  <thead>\n",
       "    <tr style=\"text-align: right;\">\n",
       "      <th></th>\n",
       "      <th>marital_status</th>\n",
       "      <th>native_country</th>\n",
       "      <th>occupation</th>\n",
       "      <th>workclass</th>\n",
       "      <th>relationship</th>\n",
       "      <th>race</th>\n",
       "      <th>sex</th>\n",
       "      <th>age</th>\n",
       "      <th>education_num</th>\n",
       "      <th>capital_gain</th>\n",
       "      <th>capital_loss</th>\n",
       "      <th>fnlwgt</th>\n",
       "      <th>hours_per_week</th>\n",
       "      <th>income_class</th>\n",
       "    </tr>\n",
       "  </thead>\n",
       "  <tbody>\n",
       "    <tr>\n",
       "      <th>0</th>\n",
       "      <td>Never-married</td>\n",
       "      <td>United-States</td>\n",
       "      <td>Adm-clerical</td>\n",
       "      <td>State-gov</td>\n",
       "      <td>Not-in-family</td>\n",
       "      <td>White</td>\n",
       "      <td>Male</td>\n",
       "      <td>39</td>\n",
       "      <td>13</td>\n",
       "      <td>2174</td>\n",
       "      <td>0</td>\n",
       "      <td>77516</td>\n",
       "      <td>40</td>\n",
       "      <td>0</td>\n",
       "    </tr>\n",
       "    <tr>\n",
       "      <th>1</th>\n",
       "      <td>Married-civ-spouse</td>\n",
       "      <td>United-States</td>\n",
       "      <td>Exec-managerial</td>\n",
       "      <td>Self-emp-not-inc</td>\n",
       "      <td>Husband</td>\n",
       "      <td>White</td>\n",
       "      <td>Male</td>\n",
       "      <td>50</td>\n",
       "      <td>13</td>\n",
       "      <td>0</td>\n",
       "      <td>0</td>\n",
       "      <td>83311</td>\n",
       "      <td>13</td>\n",
       "      <td>0</td>\n",
       "    </tr>\n",
       "    <tr>\n",
       "      <th>2</th>\n",
       "      <td>Divorced</td>\n",
       "      <td>United-States</td>\n",
       "      <td>Handlers-cleaners</td>\n",
       "      <td>Private</td>\n",
       "      <td>Not-in-family</td>\n",
       "      <td>White</td>\n",
       "      <td>Male</td>\n",
       "      <td>38</td>\n",
       "      <td>9</td>\n",
       "      <td>0</td>\n",
       "      <td>0</td>\n",
       "      <td>215646</td>\n",
       "      <td>40</td>\n",
       "      <td>0</td>\n",
       "    </tr>\n",
       "    <tr>\n",
       "      <th>3</th>\n",
       "      <td>Married-civ-spouse</td>\n",
       "      <td>United-States</td>\n",
       "      <td>Handlers-cleaners</td>\n",
       "      <td>Private</td>\n",
       "      <td>Husband</td>\n",
       "      <td>Black</td>\n",
       "      <td>Male</td>\n",
       "      <td>53</td>\n",
       "      <td>7</td>\n",
       "      <td>0</td>\n",
       "      <td>0</td>\n",
       "      <td>234721</td>\n",
       "      <td>40</td>\n",
       "      <td>0</td>\n",
       "    </tr>\n",
       "    <tr>\n",
       "      <th>4</th>\n",
       "      <td>Married-civ-spouse</td>\n",
       "      <td>Cuba</td>\n",
       "      <td>Prof-specialty</td>\n",
       "      <td>Private</td>\n",
       "      <td>Wife</td>\n",
       "      <td>Black</td>\n",
       "      <td>Female</td>\n",
       "      <td>28</td>\n",
       "      <td>13</td>\n",
       "      <td>0</td>\n",
       "      <td>0</td>\n",
       "      <td>338409</td>\n",
       "      <td>40</td>\n",
       "      <td>0</td>\n",
       "    </tr>\n",
       "  </tbody>\n",
       "</table>\n",
       "</div>"
      ],
      "text/plain": [
       "       marital_status native_country         occupation         workclass  \\\n",
       "0       Never-married  United-States       Adm-clerical         State-gov   \n",
       "1  Married-civ-spouse  United-States    Exec-managerial  Self-emp-not-inc   \n",
       "2            Divorced  United-States  Handlers-cleaners           Private   \n",
       "3  Married-civ-spouse  United-States  Handlers-cleaners           Private   \n",
       "4  Married-civ-spouse           Cuba     Prof-specialty           Private   \n",
       "\n",
       "    relationship   race     sex  age  education_num  capital_gain  \\\n",
       "0  Not-in-family  White    Male   39             13          2174   \n",
       "1        Husband  White    Male   50             13             0   \n",
       "2  Not-in-family  White    Male   38              9             0   \n",
       "3        Husband  Black    Male   53              7             0   \n",
       "4           Wife  Black  Female   28             13             0   \n",
       "\n",
       "   capital_loss  fnlwgt  hours_per_week  income_class  \n",
       "0             0   77516              40             0  \n",
       "1             0   83311              13             0  \n",
       "2             0  215646              40             0  \n",
       "3             0  234721              40             0  \n",
       "4             0  338409              40             0  "
      ]
     },
     "execution_count": 3,
     "metadata": {},
     "output_type": "execute_result"
    }
   ],
   "source": [
    "adult_df = pd.read_csv('data/adult.data', names=column_names, encoding='ascii')\n",
    "\n",
    "# Drop whitespace before strings\n",
    "# applymap will check every value in the dataframe and strip whitespace\n",
    "# only on strings, leaving others unchanged\n",
    "adult_df = adult_df.applymap(lambda v: v.strip() if type(v) == str else v)\n",
    "\n",
    "# Encode the income class as a number so it won't cause a problem later when \n",
    "# doing pd.get_dummies\n",
    "adult_df['income_class'] = adult_df['income_class'].map({'<=50K': 0, '>50K': 1})\n",
    "\n",
    "# Drop the weird fnlwgt columns (It is probably zipcode, maybe droping is not a good idea)\n",
    "# adult_df.drop('fnlwgt', axis=1, inplace=True)\n",
    "\n",
    "# Order in correct order so distance can later be calculated easier\n",
    "adult_df = adult_df[['marital_status', 'native_country',  'occupation',\n",
    "                     'workclass', 'relationship', 'race', 'sex',\n",
    "                     'age', 'education_num', 'capital_gain', 'capital_loss', 'fnlwgt',\n",
    "                     'hours_per_week', 'income_class'\n",
    "                    ]]\n",
    "\n",
    "adult_df.head()"
   ]
  },
  {
   "cell_type": "code",
   "execution_count": 4,
   "metadata": {},
   "outputs": [
    {
     "data": {
      "text/plain": [
       "(32561, 14)"
      ]
     },
     "execution_count": 4,
     "metadata": {},
     "output_type": "execute_result"
    }
   ],
   "source": [
    "adult_df.shape"
   ]
  },
  {
   "cell_type": "code",
   "execution_count": null,
   "metadata": {},
   "outputs": [],
   "source": []
  },
  {
   "cell_type": "code",
   "execution_count": 5,
   "metadata": {},
   "outputs": [
    {
     "data": {
      "text/plain": [
       "marital_status    object\n",
       "native_country    object\n",
       "occupation        object\n",
       "workclass         object\n",
       "relationship      object\n",
       "race              object\n",
       "sex               object\n",
       "age                int64\n",
       "education_num      int64\n",
       "capital_gain       int64\n",
       "capital_loss       int64\n",
       "fnlwgt             int64\n",
       "hours_per_week     int64\n",
       "income_class       int64\n",
       "dtype: object"
      ]
     },
     "execution_count": 5,
     "metadata": {},
     "output_type": "execute_result"
    }
   ],
   "source": [
    "adult_df.dtypes"
   ]
  },
  {
   "cell_type": "markdown",
   "metadata": {},
   "source": [
    "## Use one-hot encoding to get binary values everywhere\n",
    "\n",
    "Inside our SOM implementation we use one-hot encoded vectors and cosine distance."
   ]
  },
  {
   "cell_type": "code",
   "execution_count": 6,
   "metadata": {},
   "outputs": [],
   "source": [
    "# adult_df_encoded = pd.get_dummies(adult_df)\n",
    "adult_df_encoded=adult_df.drop(['marital_status', 'native_country',  'occupation',\n",
    "                     'workclass', 'relationship', 'race', 'sex'], axis=1)\n",
    "adult_df_encoded_X = adult_df_encoded.drop('income_class', axis=1)\n",
    "adult_df_encoded_y = adult_df_encoded['income_class']"
   ]
  },
  {
   "cell_type": "code",
   "execution_count": 7,
   "metadata": {},
   "outputs": [
    {
     "data": {
      "text/html": [
       "<div>\n",
       "<style scoped>\n",
       "    .dataframe tbody tr th:only-of-type {\n",
       "        vertical-align: middle;\n",
       "    }\n",
       "\n",
       "    .dataframe tbody tr th {\n",
       "        vertical-align: top;\n",
       "    }\n",
       "\n",
       "    .dataframe thead th {\n",
       "        text-align: right;\n",
       "    }\n",
       "</style>\n",
       "<table border=\"1\" class=\"dataframe\">\n",
       "  <thead>\n",
       "    <tr style=\"text-align: right;\">\n",
       "      <th></th>\n",
       "      <th>age</th>\n",
       "      <th>education_num</th>\n",
       "      <th>capital_gain</th>\n",
       "      <th>capital_loss</th>\n",
       "      <th>fnlwgt</th>\n",
       "      <th>hours_per_week</th>\n",
       "    </tr>\n",
       "  </thead>\n",
       "  <tbody>\n",
       "    <tr>\n",
       "      <th>0</th>\n",
       "      <td>39</td>\n",
       "      <td>13</td>\n",
       "      <td>2174</td>\n",
       "      <td>0</td>\n",
       "      <td>77516</td>\n",
       "      <td>40</td>\n",
       "    </tr>\n",
       "    <tr>\n",
       "      <th>1</th>\n",
       "      <td>50</td>\n",
       "      <td>13</td>\n",
       "      <td>0</td>\n",
       "      <td>0</td>\n",
       "      <td>83311</td>\n",
       "      <td>13</td>\n",
       "    </tr>\n",
       "    <tr>\n",
       "      <th>2</th>\n",
       "      <td>38</td>\n",
       "      <td>9</td>\n",
       "      <td>0</td>\n",
       "      <td>0</td>\n",
       "      <td>215646</td>\n",
       "      <td>40</td>\n",
       "    </tr>\n",
       "    <tr>\n",
       "      <th>3</th>\n",
       "      <td>53</td>\n",
       "      <td>7</td>\n",
       "      <td>0</td>\n",
       "      <td>0</td>\n",
       "      <td>234721</td>\n",
       "      <td>40</td>\n",
       "    </tr>\n",
       "    <tr>\n",
       "      <th>4</th>\n",
       "      <td>28</td>\n",
       "      <td>13</td>\n",
       "      <td>0</td>\n",
       "      <td>0</td>\n",
       "      <td>338409</td>\n",
       "      <td>40</td>\n",
       "    </tr>\n",
       "  </tbody>\n",
       "</table>\n",
       "</div>"
      ],
      "text/plain": [
       "   age  education_num  capital_gain  capital_loss  fnlwgt  hours_per_week\n",
       "0   39             13          2174             0   77516              40\n",
       "1   50             13             0             0   83311              13\n",
       "2   38              9             0             0  215646              40\n",
       "3   53              7             0             0  234721              40\n",
       "4   28             13             0             0  338409              40"
      ]
     },
     "execution_count": 7,
     "metadata": {},
     "output_type": "execute_result"
    }
   ],
   "source": [
    "adult_df_encoded_X.head()"
   ]
  },
  {
   "cell_type": "code",
   "execution_count": 8,
   "metadata": {},
   "outputs": [
    {
     "data": {
      "text/plain": [
       "0    0\n",
       "1    0\n",
       "2    0\n",
       "3    0\n",
       "4    0\n",
       "Name: income_class, dtype: int64"
      ]
     },
     "execution_count": 8,
     "metadata": {},
     "output_type": "execute_result"
    }
   ],
   "source": [
    "adult_df_encoded_y.head()"
   ]
  },
  {
   "cell_type": "markdown",
   "metadata": {},
   "source": [
    "### normalize to 0 - 1 range"
   ]
  },
  {
   "cell_type": "markdown",
   "metadata": {},
   "source": [
    "The reason for normalization is that all features are from 0 to 1 and as such cosine distance will work as intended."
   ]
  },
  {
   "cell_type": "code",
   "execution_count": 9,
   "metadata": {},
   "outputs": [
    {
     "data": {
      "text/html": [
       "<div>\n",
       "<style scoped>\n",
       "    .dataframe tbody tr th:only-of-type {\n",
       "        vertical-align: middle;\n",
       "    }\n",
       "\n",
       "    .dataframe tbody tr th {\n",
       "        vertical-align: top;\n",
       "    }\n",
       "\n",
       "    .dataframe thead th {\n",
       "        text-align: right;\n",
       "    }\n",
       "</style>\n",
       "<table border=\"1\" class=\"dataframe\">\n",
       "  <thead>\n",
       "    <tr style=\"text-align: right;\">\n",
       "      <th></th>\n",
       "      <th>age</th>\n",
       "      <th>education_num</th>\n",
       "      <th>capital_gain</th>\n",
       "      <th>capital_loss</th>\n",
       "      <th>fnlwgt</th>\n",
       "      <th>hours_per_week</th>\n",
       "    </tr>\n",
       "  </thead>\n",
       "  <tbody>\n",
       "    <tr>\n",
       "      <th>0</th>\n",
       "      <td>0.301370</td>\n",
       "      <td>0.800000</td>\n",
       "      <td>0.02174</td>\n",
       "      <td>0.0</td>\n",
       "      <td>0.044302</td>\n",
       "      <td>0.397959</td>\n",
       "    </tr>\n",
       "    <tr>\n",
       "      <th>1</th>\n",
       "      <td>0.452055</td>\n",
       "      <td>0.800000</td>\n",
       "      <td>0.00000</td>\n",
       "      <td>0.0</td>\n",
       "      <td>0.048238</td>\n",
       "      <td>0.122449</td>\n",
       "    </tr>\n",
       "    <tr>\n",
       "      <th>2</th>\n",
       "      <td>0.287671</td>\n",
       "      <td>0.533333</td>\n",
       "      <td>0.00000</td>\n",
       "      <td>0.0</td>\n",
       "      <td>0.138113</td>\n",
       "      <td>0.397959</td>\n",
       "    </tr>\n",
       "    <tr>\n",
       "      <th>3</th>\n",
       "      <td>0.493151</td>\n",
       "      <td>0.400000</td>\n",
       "      <td>0.00000</td>\n",
       "      <td>0.0</td>\n",
       "      <td>0.151068</td>\n",
       "      <td>0.397959</td>\n",
       "    </tr>\n",
       "    <tr>\n",
       "      <th>4</th>\n",
       "      <td>0.150685</td>\n",
       "      <td>0.800000</td>\n",
       "      <td>0.00000</td>\n",
       "      <td>0.0</td>\n",
       "      <td>0.221488</td>\n",
       "      <td>0.397959</td>\n",
       "    </tr>\n",
       "  </tbody>\n",
       "</table>\n",
       "</div>"
      ],
      "text/plain": [
       "        age  education_num  capital_gain  capital_loss    fnlwgt  \\\n",
       "0  0.301370       0.800000       0.02174           0.0  0.044302   \n",
       "1  0.452055       0.800000       0.00000           0.0  0.048238   \n",
       "2  0.287671       0.533333       0.00000           0.0  0.138113   \n",
       "3  0.493151       0.400000       0.00000           0.0  0.151068   \n",
       "4  0.150685       0.800000       0.00000           0.0  0.221488   \n",
       "\n",
       "   hours_per_week  \n",
       "0        0.397959  \n",
       "1        0.122449  \n",
       "2        0.397959  \n",
       "3        0.397959  \n",
       "4        0.397959  "
      ]
     },
     "execution_count": 9,
     "metadata": {},
     "output_type": "execute_result"
    }
   ],
   "source": [
    "adult_df_encoded_normalized = minmax_scale(adult_df_encoded_X)\n",
    "adult_df_encoded_normalized = pd.DataFrame(adult_df_encoded_normalized, \n",
    "                                           columns=adult_df_encoded_X.columns)\n",
    "\n",
    "adult_df_encoded_normalized.head()"
   ]
  },
  {
   "cell_type": "markdown",
   "metadata": {},
   "source": [
    "## Taxonomy trees"
   ]
  },
  {
   "cell_type": "markdown",
   "metadata": {},
   "source": [
    "The function `memoize` is a python decorator which will cache the results of its input, and for the same input in a later point in time return the cached result.\n",
    "\n",
    "Due to the specific scenario this function is used in the caching works on `args[1:]`, specifically on the values of the tree nodes, if such are present. Note that `self` is the first argument and thus one has to use `args[1:]`\n",
    "\n",
    "The cache is a python dictionary which has O(1) insert and access behaviours as it is implement via hashmaps."
   ]
  },
  {
   "cell_type": "code",
   "execution_count": 10,
   "metadata": {},
   "outputs": [],
   "source": [
    "def memoize(func):\n",
    "    cache = {}\n",
    "    def memoized(*args):\n",
    "        cache_key = args[1:]\n",
    "        cache_key = tuple(k.value if k is not None else None for k in cache_key)\n",
    "        \n",
    "        if cache_key in cache.keys():\n",
    "            return cache[cache_key]\n",
    "        else:\n",
    "            val = func(*args)\n",
    "            cache[cache_key] = val\n",
    "            return val\n",
    "    return memoized"
   ]
  },
  {
   "cell_type": "markdown",
   "metadata": {},
   "source": [
    "The taxonomy tree is formed from multiple nodes, starting from `root`.\n",
    "\n",
    "Each node has three fields:\n",
    "- *value*, the label held in this node (e.g. Married)\n",
    "- *children*, a list of all children of this node, it is empty for leaf nodes\n",
    "- *parent*, a node which is the parent of this node (e.g. Married has parent '\\*', the root))\n",
    "\n",
    "In addition there are two methods:\n",
    "- \\_\\_repr\\_\\_ which is just the python standard way to display objects as strings\n",
    "- height which determines how deep this node is in the tree which containts it\n",
    "\n",
    "For a referesher on trees here is a good youtube video:\n",
    "- https://www.youtube.com/watch?v=oSWTXtMglKE\n",
    "- It is about binary search trees but it is a similar idea to what we do in this notebook"
   ]
  },
  {
   "cell_type": "code",
   "execution_count": 11,
   "metadata": {},
   "outputs": [],
   "source": [
    "class TreeNode:\n",
    "    def __init__(self, \n",
    "                 value: str,\n",
    "                 children,\n",
    "                 parent):\n",
    "        self.value = value\n",
    "        self.children = children\n",
    "        self.parent = parent\n",
    "        \n",
    "    def __repr__(self):\n",
    "        return f\"{self.value} {self.children}\"\n",
    "    \n",
    "    def height(self) -> int:\n",
    "        if self.parent is None:\n",
    "            return 0\n",
    "        \n",
    "        return 1 + self.parent.height()"
   ]
  },
  {
   "cell_type": "code",
   "execution_count": 12,
   "metadata": {},
   "outputs": [],
   "source": [
    "# Dataclasses are a 'fancy' new way to automatically define the __init__ method\n",
    "# https://docs.python.org/3/library/dataclasses.html\n",
    "@dataclass\n",
    "class Tree:\n",
    "    # Every tree grows from the root which always has the value '*'\n",
    "    root: TreeNode\n",
    "    # Due to building the tree at once we can precalculate the height\n",
    "    height: int\n",
    "        \n",
    "    def find_node(self, value: str) -> Optional[TreeNode]:\n",
    "        \"\"\"\n",
    "        :param value str: Label to search for the in the tree.\n",
    "        :return Optional[TreeNode]: Searches for the node which \n",
    "        has the requested label and returns it if found.\n",
    "        Returns None otherwise.\n",
    "        \n",
    "        This is BFS (breadth first search) over the tree\n",
    "        \"\"\"\n",
    "        # Start the search from the root\n",
    "        queue = [self.root]\n",
    "        \n",
    "        while len(queue) > 0:\n",
    "            node = queue.pop()\n",
    "                        \n",
    "            if node.value == value:\n",
    "                return node\n",
    "            \n",
    "            for c in node.children:\n",
    "                queue.append(c)\n",
    "                \n",
    "        return None\n",
    "    \n",
    "    def add_node(self, value: str, parent_value: str):\n",
    "        \"\"\"\n",
    "        :param value str: The label of the new node we want to add\n",
    "        :param parent_value str: The label of the parent, so we know where to add the new node.\n",
    "        \n",
    "        Find the parent and if possible add the children (i.e. it was not added before) \n",
    "        \"\"\"\n",
    "        # Find the parent node and this new node\n",
    "        parent = self.find_node(parent_value)\n",
    "        \n",
    "        # Check if already present via any and a generator\n",
    "        # the meaning here is that if any children has this label\n",
    "        # it means it was added before\n",
    "        was_already_added = any((c.value == value for c in parent.children))\n",
    "        \n",
    "        # If not added, add it as a new node with no children\n",
    "        if not was_already_added:\n",
    "            parent.children.append(TreeNode(value, [], parent))\n",
    "        \n",
    "    def add_path(self, path: List[str]):\n",
    "        \"\"\"\n",
    "        :param path List[str]: One path as sequence of labels\n",
    "        \n",
    "        The data for adult taxonomy comes as paths. \n",
    "        This is a convenience method to add these\n",
    "        paths to the tree.\n",
    "        \n",
    "        Note: The path is reversed so '*' comes first.\n",
    "        \"\"\"\n",
    "        path = path[::-1]\n",
    "        \n",
    "        # The 'trick' zip(path, path[1:]) is very useful in working with paths\n",
    "        # For example for path [1, 2, 3] it would give (1, 2) and (2, 3)\n",
    "        # which is exactly the parent-child relationship we need\n",
    "        for parent_value, value in zip(path, path[1:]):\n",
    "            self.add_node(value.strip(), parent_value.strip())   \n",
    "            \n",
    "    @memoize\n",
    "    def find_matching_parent(self, node1: TreeNode, node2: TreeNode) -> TreeNode:\n",
    "        \"\"\"\n",
    "        This is the central method of the tree. \n",
    "        For two nodes in the tree it finds the closest matching parent as defined in the kmember paper.\n",
    "        It works for a pair of nodes while it's extension in the method :ref find_matching_parent_many:\n",
    "        works for more than 2 nodes.\n",
    "        \n",
    "        It is complex algorithm which calls itself recursively and it has the property that it calculates \n",
    "        the same thing multiple times. To avoid wasting time such cases are handled via a cache and the @memoize\n",
    "        decorator. This algorithm is an example of top down dynamic programming.\n",
    "        - https://www.youtube.com/watch?v=dZ0OS4YUs2A\n",
    "        \n",
    "        Here is the logic of the algorithm (fmp = find_matching_parent)\n",
    "        \n",
    "        fmp None None = root [no nodes in tree means matching parent is root]\n",
    "        \n",
    "        fmp x x = x [if both nodes are the same, return the first one]\n",
    "        \n",
    "        fmp x y where parent of x is equal to parent of y = parent of x [if parent directly above case]\n",
    "        \n",
    "        fmp root _ = root if we try to find parent of root we have to return root\n",
    "        fmp _ root = root if we try to find parent of root we have to return root\n",
    "        \n",
    "        otherwise call the algorithm recursively on combinations of parents as the new nodes on which to check.\n",
    "        There will be 3 possible choices, of which the one with largest height is selected as the matching parent.\n",
    "        \"\"\"\n",
    "        # If the node does not exist in the tree, then the matching parent is set to be the root\n",
    "        if node1 is None or node2 is None:\n",
    "            return self.root\n",
    "        \n",
    "        # If the values are the same, they are the same node \n",
    "        # so parent for distance calculation purposes is the same one\n",
    "        # as in paper\n",
    "        if node1.value == node2.value:\n",
    "            return node1\n",
    "        \n",
    "        # If the parent is directly above then just return it\n",
    "        if node1.parent == node2.parent:\n",
    "            return node1.parent\n",
    "        \n",
    "        # If we reached root, return it\n",
    "        if node1.parent is None:\n",
    "            return node1\n",
    "        if node2.parent is None:\n",
    "            return node2\n",
    "        \n",
    "        # Examine parent nodes for searching higher in the taxonomy tree\n",
    "        o1 = self.find_matching_parent(node1, node2.parent)\n",
    "        o2 = self.find_matching_parent(node1.parent, node2)\n",
    "        o3 = self.find_matching_parent(node1.parent, node2.parent)\n",
    "        \n",
    "        # Pick the matching parent with largest height\n",
    "        choices = [o1, o2, o3]\n",
    "        choices = sorted(choices, key=lambda o: o.height(), reverse=True)\n",
    "        \n",
    "        return choices[0]\n",
    "    \n",
    "    def find_matching_parent_many(self, labels: List[str]) -> TreeNode:\n",
    "        \"\"\"\n",
    "        :param labels List[str]: List of labels from which to search for parents.\n",
    "        \n",
    "        This algorithm is going pairwise over labels, finding the nodes, and finding\n",
    "        the matching parent for them.\n",
    "        \n",
    "        Of all matching parents, the one with lowest distance is kept as the final result.\n",
    "        \"\"\"\n",
    "        parents = set()\n",
    "        \n",
    "        for l1, l2 in product(labels, repeat=2):\n",
    "            mp = self.find_matching_parent(self.find_node(l1), \n",
    "                                           self.find_node(l2))\n",
    "            \n",
    "            parents = parents | { mp }\n",
    "            \n",
    "        # Best parent is one with minimum height\n",
    "        parent = min(parents, key=lambda n: n.height())\n",
    "        \n",
    "        return parent\n",
    "    \n",
    "    def all_nodes(self) -> List[TreeNode]:\n",
    "        \"\"\"\n",
    "        Using BFS flatten the tree into a list of nodes\n",
    "        \"\"\"\n",
    "        output = []\n",
    "        queue  = [self.root]\n",
    "        \n",
    "        while len(queue) > 0:\n",
    "            node = queue.pop()\n",
    "            \n",
    "            for c in node.children:\n",
    "                queue.append(c)\n",
    "                \n",
    "            output.append(node)\n",
    "                \n",
    "        return list(set(output))"
   ]
  },
  {
   "cell_type": "code",
   "execution_count": 13,
   "metadata": {},
   "outputs": [
    {
     "name": "stdout",
     "output_type": "stream",
     "text": [
      "Example tree and list of categorical attributes\n"
     ]
    },
    {
     "data": {
      "text/plain": [
       "(Tree(root=* [Never-married [], Married [Married-civ-spouse [], Married-AF-spouse []], leave [Divorced [], Separated []], alone [Widowed [], Married-spouse-absent []]], height=2),\n",
       " odict_keys(['relationship', 'race', 'workclass', 'native_country', 'marital_status', 'occupation', 'sex']))"
      ]
     },
     "execution_count": 13,
     "metadata": {},
     "output_type": "execute_result"
    }
   ],
   "source": [
    "def read_tree(filepath: str) -> Tree:\n",
    "    \"\"\"\n",
    "    :param filepath: From where to read.\n",
    "    \n",
    "    :return Tree: The fully grown taxonomy tree.\n",
    "    \n",
    "    Read a taxonomy tree from file.\n",
    "    \"\"\"\n",
    "    with open(filepath, 'r') as f:\n",
    "        ls = f.readlines()\n",
    "        paths = [l.strip('\\n').split(';') for l in ls]\n",
    "        height = max(map(len, paths)) - 1\n",
    "        \n",
    "        root = TreeNode('*', [], None)\n",
    "        tree = Tree(root, height)\n",
    "        \n",
    "        for path in paths:\n",
    "            tree.add_path(path)\n",
    "                        \n",
    "        return tree\n",
    "    \n",
    "    \n",
    "def read_all_trees():\n",
    "    \"\"\"\n",
    "    Go over the files in data/trees/ directory and read them\n",
    "    after parsing the attribute name from file name.\n",
    "    \"\"\"\n",
    "    i = ((os.path.split(x)[1].strip('adult_').strip('.txt'), \n",
    "          read_tree(x)) \n",
    "         for x in glob.glob('data/trees/*.txt'))\n",
    "\n",
    "    trees = OrderedDict(i)\n",
    "    trees['sex'] = trees['se']\n",
    "    del trees['se']\n",
    "    \n",
    "    return trees\n",
    "\n",
    "trees = read_all_trees()\n",
    "\n",
    "print('Example tree and list of categorical attributes')\n",
    "trees['marital_status'], trees.keys()"
   ]
  },
  {
   "cell_type": "markdown",
   "metadata": {},
   "source": [
    "With the taxonomy trees loaded we can define the distance between two labels using the appropriate tree."
   ]
  },
  {
   "cell_type": "code",
   "execution_count": 14,
   "metadata": {},
   "outputs": [
    {
     "name": "stdout",
     "output_type": "stream",
     "text": [
      "Node 1 Widowed []\n",
      "Node 2 Widowed []\n",
      "Matching parent Widowed []\n",
      "Height of matching parent 2\n",
      "0.0\n",
      "Node 1 Widowed []\n",
      "Node 2 Separated []\n",
      "Matching parent * [Never-married [], Married [Married-civ-spouse [], Married-AF-spouse []], leave [Divorced [], Separated []], alone [Widowed [], Married-spouse-absent []]]\n",
      "Height of matching parent 0\n",
      "1.0\n",
      "Node 1 Separated []\n",
      "Node 2 Widowed []\n",
      "Matching parent * [Never-married [], Married [Married-civ-spouse [], Married-AF-spouse []], leave [Divorced [], Separated []], alone [Widowed [], Married-spouse-absent []]]\n",
      "Height of matching parent 0\n",
      "1.0\n",
      "Node 1 Separated []\n",
      "Node 2 Divorced []\n",
      "Matching parent leave [Divorced [], Separated []]\n",
      "Height of matching parent 1\n",
      "0.5\n"
     ]
    }
   ],
   "source": [
    "def single_attr_distance(trees, attr_name, val1, val2, debug_print=True):\n",
    "    \"\"\"\n",
    "    :param trees: dictionary holding all taxonomy trees, keyed by attribute name\n",
    "    :param attr_name: the name of the attribute by which we find taxonomy distance\n",
    "    :param val1: value of the attribute in record 1\n",
    "    :param val2: value of the attribute in record 2\n",
    "    \n",
    "    :return: taxonomy tree distance for a single attribute\n",
    "    \"\"\"\n",
    "    tree = trees[attr_name]\n",
    "        \n",
    "    node1 = tree.find_node(val1)\n",
    "    node2 = tree.find_node(val2)\n",
    "    \n",
    "    if debug_print:\n",
    "        print('Node 1', node1)\n",
    "        print('Node 2', node2)\n",
    "    \n",
    "    mp    = tree.find_matching_parent(node1, node2)\n",
    "    \n",
    "    if debug_print:\n",
    "        print('Matching parent', mp)\n",
    "        print('Height of matching parent', mp.height())\n",
    "    \n",
    "    return 1.0 - mp.height() / tree.height\n",
    "    \n",
    "# Here we have debug output On so one can see what is going on.\n",
    "print(single_attr_distance(trees, 'marital_status', 'Widowed', 'Widowed'))\n",
    "print(single_attr_distance(trees, 'marital_status', 'Widowed', 'Separated'))\n",
    "print(single_attr_distance(trees, 'marital_status', 'Separated', 'Widowed'))\n",
    "print(single_attr_distance(trees, 'marital_status', 'Separated', 'Divorced'))"
   ]
  },
  {
   "cell_type": "markdown",
   "metadata": {},
   "source": [
    "### Precalculate distances per attribute for all attributes"
   ]
  },
  {
   "cell_type": "markdown",
   "metadata": {},
   "source": [
    "The taxonomy trees are necessary to calculate the distances but because there is only a finite set of labels, all distances could be precalculated and thus one will not have to use trees in the rest of the code.\n",
    "\n",
    "One advantage of this is that working with numba should be easier with this.\n",
    "\n",
    "These will be stored in one *global* dictionary named `single_attr_distances` whose keys are (attribute_name, label1, label2). An example key is 'marital_status', 'alone', 'Married'."
   ]
  },
  {
   "cell_type": "code",
   "execution_count": 15,
   "metadata": {},
   "outputs": [
    {
     "data": {
      "text/plain": [
       "[* [Never-married [], Married [Married-civ-spouse [], Married-AF-spouse []], leave [Divorced [], Separated []], alone [Widowed [], Married-spouse-absent []]],\n",
       " Separated [],\n",
       " alone [Widowed [], Married-spouse-absent []],\n",
       " Married-civ-spouse [],\n",
       " Widowed [],\n",
       " Married-AF-spouse [],\n",
       " Married-spouse-absent [],\n",
       " Never-married [],\n",
       " Married [Married-civ-spouse [], Married-AF-spouse []],\n",
       " leave [Divorced [], Separated []],\n",
       " Divorced []]"
      ]
     },
     "execution_count": 15,
     "metadata": {},
     "output_type": "execute_result"
    }
   ],
   "source": [
    "trees['marital_status'].all_nodes()"
   ]
  },
  {
   "cell_type": "code",
   "execution_count": 16,
   "metadata": {},
   "outputs": [],
   "source": [
    "categorical_attributes_order = ('marital_status', 'native_country', 'occupation', 'workclass', 'relationship', 'race', 'sex')"
   ]
  },
  {
   "cell_type": "code",
   "execution_count": 17,
   "metadata": {},
   "outputs": [
    {
     "name": "stderr",
     "output_type": "stream",
     "text": [
      "100%|██████████| 7/7 [00:00<00:00, 89.43it/s]"
     ]
    },
    {
     "name": "stdout",
     "output_type": "stream",
     "text": [
      "Example for getting distance from the dictionary\n"
     ]
    },
    {
     "name": "stderr",
     "output_type": "stream",
     "text": [
      "\n"
     ]
    },
    {
     "data": {
      "text/plain": [
       "1.0"
      ]
     },
     "execution_count": 17,
     "metadata": {},
     "output_type": "execute_result"
    }
   ],
   "source": [
    "# Define the dictionary\n",
    "single_attr_distances = {} \n",
    "\n",
    "# Populate the dictionary by going over every attribute.\n",
    "for attr in tqdm.tqdm(categorical_attributes_order):  \n",
    "    # Get all labels for one tree\n",
    "    labels = [l.value for l in trees[attr].all_nodes()]\n",
    "    \n",
    "    # For each pair of labels calculate the distance\n",
    "    for l1, l2 in product(labels, repeat=2):\n",
    "        single_attr_distances[(attr, l1, l2)] = single_attr_distance(trees, attr, l1, l2, False)\n",
    "        \n",
    "    # Handle missing values cases\n",
    "    for l in labels:\n",
    "        single_attr_distances[(attr, '?', l)] = 1.0\n",
    "        single_attr_distances[(attr, l, '?')] = 1.0\n",
    "\n",
    "    # Distance between two missing values is 1.0, the maximal possible distance\n",
    "    single_attr_distances[(attr, '?', '?')] = 1.0\n",
    "\n",
    "print('Example for getting distance from the dictionary')\n",
    "single_attr_distances[('marital_status', 'Widowed', 'Divorced')]"
   ]
  },
  {
   "cell_type": "markdown",
   "metadata": {},
   "source": [
    "### Define the kmember distance function"
   ]
  },
  {
   "cell_type": "markdown",
   "metadata": {},
   "source": [
    "We define a strict categorical ordering so we can use integer indices in the algorithms."
   ]
  },
  {
   "cell_type": "code",
   "execution_count": 18,
   "metadata": {},
   "outputs": [],
   "source": [
    "categorical_attributes_order = ('marital_status', 'native_country', 'occupation', 'workclass', 'relationship', 'race', 'sex')"
   ]
  },
  {
   "cell_type": "code",
   "execution_count": 19,
   "metadata": {},
   "outputs": [],
   "source": [
    "# @numba.jit(nopython=False, parallel=True, fastmath=True, inline='always')\n",
    "def taxonomy_tree_distance(record1_cats: np.ndarray, record2_cats: np.ndarray, single_attr_distances):\n",
    "    \"\"\"\n",
    "    :param record1_cats: Is a numpy array of labels, one label for one attribute.\n",
    "    :param record2_cats: Is a numpy array of labels, one label for one attribute.\n",
    "    :param single_attr_distances: The dictionary with precalculated distances.\n",
    "    \n",
    "    This method implements the taxonomy tree distance as described in kmember paper.\n",
    "    \n",
    "    Essentialy it just sums the per attribute distances for given label pairs.\n",
    "    \"\"\"\n",
    "    total = 0\n",
    "    for i in range(len(categorical_attributes_order)):\n",
    "        attr = categorical_attributes_order[i]\n",
    "        val1 = record1_cats[i]\n",
    "        val2 = record2_cats[i]\n",
    "        d = single_attr_distances[(attr, val1, val2)]\n",
    "        total += d\n",
    "    return total"
   ]
  },
  {
   "cell_type": "code",
   "execution_count": 20,
   "metadata": {},
   "outputs": [
    {
     "data": {
      "text/plain": [
       "4.0"
      ]
     },
     "execution_count": 20,
     "metadata": {},
     "output_type": "execute_result"
    }
   ],
   "source": [
    "# Test that the function works.\n",
    "# Notice that we cast into str to ensure maximum compatibility.\n",
    "taxonomy_tree_distance(adult_df.iloc[0, :7].values.astype(str), \n",
    "                       adult_df.iloc[1, :7].values.astype(str), \n",
    "                       single_attr_distances)"
   ]
  },
  {
   "cell_type": "markdown",
   "metadata": {},
   "source": [
    "The second compoment of kmember distance are full dataset ranges of numeric attributes.\n",
    "\n",
    "These we compute in next cell and store in variable named `numerical_attribute_ranges`"
   ]
  },
  {
   "cell_type": "code",
   "execution_count": 21,
   "metadata": {},
   "outputs": [
    {
     "data": {
      "text/plain": [
       "array([     73,      15,   99999,    4356, 1472420,      98])"
      ]
     },
     "execution_count": 21,
     "metadata": {},
     "output_type": "execute_result"
    }
   ],
   "source": [
    "# it goes to -1 so it will ignore income_class\n",
    "# 7 is the index of the first numeric attribute\n",
    "numerical_attribute_ranges = adult_df.iloc[:, 7:-1].max(axis=0) - adult_df.iloc[:, 7:-1].min(axis=0)\n",
    "\n",
    "numerical_attribute_ranges = numerical_attribute_ranges.values\n",
    "\n",
    "numerical_attribute_ranges"
   ]
  },
  {
   "cell_type": "code",
   "execution_count": 22,
   "metadata": {},
   "outputs": [],
   "source": [
    "# @numba.jit(nopython=False, parallel=False, fastmath=True, inline='never')\n",
    "def kmember_distance(record1, record2, single_attr_distances):\n",
    "    \"\"\"\n",
    "    Combine the taxonomy tree distance over categorical attributes\n",
    "    and the ratio distance over numerics.\n",
    "    \n",
    "    Look into the kmember paper for more info.\n",
    "    \"\"\"\n",
    "    cd = taxonomy_tree_distance(record1[:7], record2[:7], single_attr_distances)\n",
    "    # notice no -1 here, assumes income class was dropped before call to this function.\n",
    "    nd = np.abs((record1[7:].astype(np.float64) - record2[7:].astype(np.float64)) / numerical_attribute_ranges).sum()\n",
    "    \n",
    "    return cd + nd"
   ]
  },
  {
   "cell_type": "code",
   "execution_count": 23,
   "metadata": {},
   "outputs": [
    {
     "data": {
      "text/plain": [
       "4.451871050685607"
      ]
     },
     "execution_count": 23,
     "metadata": {},
     "output_type": "execute_result"
    }
   ],
   "source": [
    "kmember_distance(adult_df.iloc[0, :-1].values, adult_df.iloc[1, :-1], single_attr_distances)"
   ]
  },
  {
   "cell_type": "markdown",
   "metadata": {},
   "source": [
    "## Define information loss\n",
    "\n",
    "Per kmember paper."
   ]
  },
  {
   "cell_type": "code",
   "execution_count": 24,
   "metadata": {},
   "outputs": [],
   "source": [
    "def information_loss_cluster(data: pd.DataFrame) -> float:\n",
    "    \"\"\"\n",
    "    :param data pd.DataFrame: A dataframe which is a subset of adult_df with income_df dropped.\n",
    "    \"\"\"\n",
    "    n_points = data.shape[0]\n",
    "        \n",
    "    loss = 0\n",
    "\n",
    "    # for categorical features\n",
    "    # for all pairs of present labels find parents\n",
    "    # of all parents find the one with lowest height\n",
    "    # as the worst possible case\n",
    "    # and have that as the parent for distance calculation\n",
    "    for fid in range(len(categorical_attributes_order)):\n",
    "        labels = data.iloc[:, fid].unique()\n",
    "        attr   = categorical_attributes_order[fid]\n",
    "        dists  = [] \n",
    "        for l1, l2 in product(labels, repeat=2):\n",
    "            dists.append(single_attr_distances[(attr, l1, l2)]) \n",
    "            \n",
    "        loss += (min(dists) if len(dists) > 0 else 0.0)\n",
    "\n",
    "    # for numeric features find the ratio of range in cluster over\n",
    "    # range in full dataset\n",
    "    for fid in range(len(categorical_attributes_order), data.shape[1] - 1):\n",
    "        v = data.iloc[:, fid].max() - data.iloc[:, fid].min()\n",
    "        if np.isnan(v):\n",
    "            v = 0.0\n",
    "        v = v / numerical_attribute_ranges[fid - len(categorical_attributes_order)]\n",
    "        loss += v\n",
    "\n",
    "    loss *= n_points\n",
    "    \n",
    "    return loss\n",
    "\n",
    "def information_loss(dataset: pd.DataFrame) -> float:\n",
    "    n_clusters = dataset['equivalence_class'].nunique()\n",
    "    \n",
    "    total_loss = 0\n",
    "    \n",
    "    for cl_id in range(n_clusters):\n",
    "        data = dataset[dataset.equivalence_class == cl_id].copy()\n",
    "        \n",
    "        loss = information_loss_cluster(data)\n",
    "                \n",
    "        total_loss += loss\n",
    "        \n",
    "    return total_loss"
   ]
  },
  {
   "cell_type": "code",
   "execution_count": 25,
   "metadata": {},
   "outputs": [
    {
     "name": "stdout",
     "output_type": "stream",
     "text": [
      "137731.2203373009\n"
     ]
    }
   ],
   "source": [
    "# test information loss on random cluster assignment\n",
    "adult_df['equivalence_class'] = np.random.choice(np.arange(200), size=adult_df.shape[0])\n",
    "print(information_loss(adult_df.drop('income_class', axis=1)))\n",
    "adult_df.drop('equivalence_class', axis=1, inplace=True)"
   ]
  },
  {
   "cell_type": "markdown",
   "metadata": {},
   "source": [
    "# Self Organising Map implementation"
   ]
  },
  {
   "cell_type": "markdown",
   "metadata": {},
   "source": [
    "### Define a new custom distance function which works on both numeric and categorical data"
   ]
  },
  {
   "cell_type": "markdown",
   "metadata": {},
   "source": [
    "Have only one of it and make sure it is decorated with numba.jit for speed."
   ]
  },
  {
   "cell_type": "code",
   "execution_count": 26,
   "metadata": {},
   "outputs": [],
   "source": [
    "# L1 distance\n",
    "# @numba.jit(\"float64(float64[:], float64[:])\", nopython=True)\n",
    "# def custom_distance(a, b):\n",
    "#     return np.sum(np.abs(a - b))\n",
    "\n",
    "# L2 distance\n",
    "# @numba.jit(\"float64(float64[:], float64[:])\", nopython=True)\n",
    "# def custom_distance(a, b):\n",
    "#     return np.sum((a - b) ** 2)"
   ]
  },
  {
   "cell_type": "code",
   "execution_count": 27,
   "metadata": {},
   "outputs": [
    {
     "name": "stderr",
     "output_type": "stream",
     "text": [
      "<ipython-input-27-e7153265b6f7>:5: NumbaPerformanceWarning: \u001b[1m\u001b[1mnp.dot() is faster on contiguous arrays, called on (array(float64, 1d, A), array(float64, 1d, A))\u001b[0m\u001b[0m\n",
      "  return 1.0 - np.abs(np.dot(a, b) / (np.sqrt(np.sum(a ** 2) * np.sum(b ** 2))))\n"
     ]
    }
   ],
   "source": [
    "# Cosine distance\n",
    "@numba.jit(\"float64(float64[:], float64[:])\", inline='always', \n",
    "           nopython=True, fastmath=True, parallel=True)\n",
    "def custom_distance(a, b):\n",
    "    return 1.0 - np.abs(np.dot(a, b) / (np.sqrt(np.sum(a ** 2) * np.sum(b ** 2))))"
   ]
  },
  {
   "cell_type": "code",
   "execution_count": 28,
   "metadata": {},
   "outputs": [
    {
     "data": {
      "text/plain": [
       "0.05638406321170408"
      ]
     },
     "execution_count": 28,
     "metadata": {},
     "output_type": "execute_result"
    }
   ],
   "source": [
    "custom_distance(adult_df_encoded_normalized.values[0, :], adult_df_encoded_normalized.values[1, :])"
   ]
  },
  {
   "cell_type": "code",
   "execution_count": 29,
   "metadata": {},
   "outputs": [
    {
     "data": {
      "text/plain": [
       "0.027285412801464348"
      ]
     },
     "execution_count": 29,
     "metadata": {},
     "output_type": "execute_result"
    }
   ],
   "source": [
    "custom_distance(adult_df_encoded_normalized.values[0, :], adult_df_encoded_normalized.values[2, :])"
   ]
  },
  {
   "cell_type": "markdown",
   "metadata": {},
   "source": [
    "### Define a few helper functions\n",
    "\n",
    "For SOM to work we will need the learning rate scheduler (which is exponential in our case)"
   ]
  },
  {
   "cell_type": "code",
   "execution_count": 30,
   "metadata": {},
   "outputs": [
    {
     "data": {
      "text/plain": [
       "[<matplotlib.lines.Line2D at 0x7fbf52dc3f90>]"
      ]
     },
     "execution_count": 30,
     "metadata": {},
     "output_type": "execute_result"
    },
    {
     "data": {
      "image/png": "[encoded data removed]",
      "text/plain": [
       "<Figure size 432x288 with 1 Axes>"
      ]
     },
     "metadata": {
      "needs_background": "light"
     },
     "output_type": "display_data"
    }
   ],
   "source": [
    "def learning_rate_decay_exponential(base=0.9999, const=3):\n",
    "    def _f(s):\n",
    "        return (base ** s) / const\n",
    "    return _f\n",
    "    \n",
    "# Complicated code but it essentially just makes two arrays for plotting\n",
    "__xs = np.arange(0, 200)\n",
    "plt.plot(__xs, np.vectorize(learning_rate_decay_exponential())(__xs))"
   ]
  },
  {
   "cell_type": "markdown",
   "metadata": {},
   "source": [
    "And the neighbourhood weighting function."
   ]
  },
  {
   "cell_type": "code",
   "execution_count": 31,
   "metadata": {},
   "outputs": [
    {
     "data": {
      "text/plain": [
       "0.08065690817304778"
      ]
     },
     "execution_count": 31,
     "metadata": {},
     "output_type": "execute_result"
    }
   ],
   "source": [
    "def neighbourhood_function_gaussian(sigma):\n",
    "    \"\"\"\n",
    "    bmu_index is the integer index of the best matching index\n",
    "    neighbour_index is the integer index of the neighbour under inspection\n",
    "    s is the current iteration\n",
    "    sigma is the standard deviation of the underlying gaussian\n",
    "    \"\"\"\n",
    "    # note: s is ignored here\n",
    "    def _f(bmu_index, neighbour_index, s): \n",
    "        return norm.pdf(x=neighbour_index, loc=bmu_index, scale=sigma)\n",
    "    return _f\n",
    "    \n",
    "neighbourhood_function_gaussian(3)(5, 2, -1)"
   ]
  },
  {
   "cell_type": "markdown",
   "metadata": {},
   "source": [
    "Here is an example of how this function could look like for one specific Best Matching Unit index.\n",
    "\n",
    "prob:  0 0.1 0.3 0.5 0.3 0.1 0\n",
    "\n",
    "index: 0 1    2   3   4  5   6\n",
    "\n",
    "bmu               idx"
   ]
  },
  {
   "cell_type": "markdown",
   "metadata": {},
   "source": [
    "### The implementation of the SOM"
   ]
  },
  {
   "cell_type": "code",
   "execution_count": 32,
   "metadata": {},
   "outputs": [
    {
     "name": "stderr",
     "output_type": "stream",
     "text": [
      "<ipython-input-27-e7153265b6f7>:5: NumbaPerformanceWarning: \u001b[1m\u001b[1mnp.dot() is faster on contiguous arrays, called on (array(float64, 1d, A), array(float64, 1d, A))\u001b[0m\u001b[0m\n",
      "  return 1.0 - np.abs(np.dot(a, b) / (np.sqrt(np.sum(a ** 2) * np.sum(b ** 2))))\n"
     ]
    }
   ],
   "source": [
    "@numba.jit(\"uint32(float64[:], float64[:,:])\", \n",
    "           nopython=True, inline='always', \n",
    "           parallel=False, fastmath=True,\n",
    "           target='cpu')\n",
    "def find_bmu(input_vector, weight_vectors) -> int:   \n",
    "    \"\"\"\n",
    "    :parent input_vector: One-hot encoded vector from the dataset.\n",
    "    :param weight_vectors: Matrix of vectors, one vector per one neuron in SOM.\n",
    "    \n",
    "    Finds and returns the best matching unit for the given data point.\n",
    "    BMU is the unit whose weight vector is closest to the input vector\n",
    "    closest means minimum distance and in this function\n",
    "     \n",
    "    This algorithm is O(n) where n is the number of units/neurons in SOM.\n",
    "    \"\"\"\n",
    "    md = 100000000.0\n",
    "    bmu = -1\n",
    "    for i in range(0, weight_vectors.shape[0]):\n",
    "        d = custom_distance(weight_vectors[i, :], input_vector)\n",
    "        if d <= md:\n",
    "            md  = d\n",
    "            bmu = i\n",
    "                        \n",
    "    return bmu"
   ]
  },
  {
   "cell_type": "code",
   "execution_count": 33,
   "metadata": {},
   "outputs": [],
   "source": [
    "# Configure the function parameters of the SOM algorithm\n",
    "# These can be left as they are here, the scheduler is OK while\n",
    "# sigma for the neighbourhood function could perhaps get some change\n",
    "# with different ks for k-annonimity\n",
    "learning_rate_scheduler = learning_rate_decay_exponential(0.9999)\n",
    "neighbourhood_function  = neighbourhood_function_gaussian(sigma=70)"
   ]
  },
  {
   "cell_type": "code",
   "execution_count": 34,
   "metadata": {},
   "outputs": [],
   "source": [
    "def som_transform(dataset: pd.DataFrame,\n",
    "                  desired_k: int = 50, \n",
    "                  max_iterations: Optional[int] = None) -> List[int]:\n",
    "    \"\"\"\n",
    "    :param dataset: The dataframe\n",
    "    :param desired_k: The level of annonymity desired. This algorithm does not guarantee it will be reached.\n",
    "    :param max_iterations: Best left None so the algorithm uses a heuristic to determine how many iterations to work with.\n",
    "    \n",
    "    Train the SOM and assign BMUs to each point in the input dataframe.\n",
    "    \n",
    "    Returns a list of BMUs, one element of this list, corresponds to one row of the dataframe.\n",
    "    \"\"\"\n",
    "    n_data_points      = dataset.shape[0]\n",
    "    n_highdim_features = dataset.shape[1]\n",
    "    \n",
    "    # Based on the desired k-annonymity determine the number of 1D units\n",
    "    n_units = n_data_points // desired_k\n",
    "    \n",
    "    if max_iterations is None:\n",
    "        max_iterations = int(np.ceil(np.sqrt(n_data_points))) // 20\n",
    "        \n",
    "    print(f'Working with {n_units} units and going {max_iterations} times over the dataset')\n",
    "        \n",
    "    # Randomly initialized value vectors\n",
    "    # Another option is PCA initialization\n",
    "    # This could be improved through bernoulli sampling for the 0/1 encoded columns\n",
    "    weight_vectors = np.random.normal(size=(n_units, n_highdim_features))\n",
    "        \n",
    "    print('Precalculating neighbour scores')\n",
    "    \n",
    "    __neighbour_scores = np.zeros((n_units, n_units), dtype=np.float32)\n",
    "    for u in tqdm.trange(n_units):\n",
    "        for v in range(n_units):\n",
    "            __neighbour_scores[u, v] = neighbourhood_function(u, v, -1)\n",
    "        \n",
    "    print('Training the SOM')\n",
    "    \n",
    "    # Train the SOM\n",
    "    t = tqdm.trange(max_iterations * n_data_points)\n",
    "    for s in t:\n",
    "        learning_rate = learning_rate_scheduler(s // max_iterations)\n",
    "        \n",
    "        # Determine the epoch and update the progress slider\n",
    "        if s % n_data_points == 0:\n",
    "            t.set_description(f'Epoch {s // n_data_points}')\n",
    "        \n",
    "        input_idx = s % max_iterations\n",
    "        \n",
    "        # One other option is go through all input vectors but this is super slow\n",
    "        # Randomly pick an input vector \n",
    "        input_vector = dataset[input_idx, :]\n",
    "\n",
    "        # Find the best matching unit (lowest distance)\n",
    "        bmu_idx = find_bmu(input_vector, weight_vectors)\n",
    "\n",
    "        # Go over all possible neighbours and calculate the neighbour scoring for them\n",
    "        # closer neighbours should get a higher score assigned to them when using gaussian\n",
    "        # it looks like this in way 0 0.1 0.3 0.5 0.3 0.1 0\n",
    "        # where indices are         0  1   2   3   4  5   6\n",
    "        # and the BMU is at index 3\n",
    "        scores = __neighbour_scores[bmu_idx, :]\n",
    "        # We then stack the scores vector so we can multiply with all weight\n",
    "        # vector and change all components in one operation\n",
    "        scores = np.vstack([scores for _ in range(n_highdim_features)]).T\n",
    "\n",
    "        # Update the weight vectors \n",
    "        # Some magic so numpy shapes align, nothing special\n",
    "        tmp = np.vstack([input_vector for _ in range(n_units)])\n",
    "        vector_difference = tmp - weight_vectors\n",
    "    \n",
    "        # Update the weight vector according to the SOM formula\n",
    "        weight_vectors = weight_vectors + learning_rate * scores * vector_difference\n",
    "\n",
    "        \n",
    "    # Find the best matching unit for every input vector and define that as its' cluster id\n",
    "    print('Finding the cluster IDs for all data points')\n",
    "    out_cluster_ids = []\n",
    "    for i in tqdm.trange(0, n_data_points):\n",
    "        input_vector = dataset[i, :]\n",
    "        bmu_idx = find_bmu(input_vector, weight_vectors)\n",
    "        out_cluster_ids.append(bmu_idx) \n",
    "        \n",
    "    return out_cluster_ids\n"
   ]
  },
  {
   "cell_type": "markdown",
   "metadata": {},
   "source": [
    "### Hyperparameter Tuning\n",
    "This following cell perform the hyperparameter search on how many number of neurons result in better correlation between SOM and income class (Correlation ranges between -1 and 1). Currently it is including 'fnlwgt'. In case you want to remove it, remove it in the cell below as well as in the cell where data is loaded. Run cell (150,155,10)"
   ]
  },
  {
   "cell_type": "code",
   "execution_count": 35,
   "metadata": {},
   "outputs": [
    {
     "name": "stderr",
     "output_type": "stream",
     "text": [
      "  1%|          | 2/325 [00:00<00:25, 12.60it/s]"
     ]
    },
    {
     "name": "stdout",
     "output_type": "stream",
     "text": [
      "Working with 325 units and going 9 times over the dataset\n",
      "Precalculating neighbour scores\n"
     ]
    },
    {
     "name": "stderr",
     "output_type": "stream",
     "text": [
      "100%|██████████| 325/325 [00:22<00:00, 14.19it/s]\n",
      "Epoch 0:   0%|          | 99/293049 [00:00<04:58, 982.11it/s]"
     ]
    },
    {
     "name": "stdout",
     "output_type": "stream",
     "text": [
      "Training the SOM\n"
     ]
    },
    {
     "name": "stderr",
     "output_type": "stream",
     "text": [
      "Epoch 8: 100%|██████████| 293049/293049 [04:40<00:00, 1043.15it/s]\n",
      "  1%|          | 346/32561 [00:00<00:09, 3458.06it/s]"
     ]
    },
    {
     "name": "stdout",
     "output_type": "stream",
     "text": [
      "Finding the cluster IDs for all data points\n"
     ]
    },
    {
     "name": "stderr",
     "output_type": "stream",
     "text": [
      "100%|██████████| 32561/32561 [00:09<00:00, 3426.78it/s]\n",
      "  1%|          | 2/296 [00:00<00:18, 15.53it/s]"
     ]
    },
    {
     "name": "stdout",
     "output_type": "stream",
     "text": [
      "K: 100 , Corr: -0.08836549952648577\n",
      "Working with 296 units and going 9 times over the dataset\n",
      "Precalculating neighbour scores\n"
     ]
    },
    {
     "name": "stderr",
     "output_type": "stream",
     "text": [
      "100%|██████████| 296/296 [00:18<00:00, 15.84it/s]\n",
      "Epoch 0:   0%|          | 75/293049 [00:00<06:33, 744.89it/s]"
     ]
    },
    {
     "name": "stdout",
     "output_type": "stream",
     "text": [
      "Training the SOM\n"
     ]
    },
    {
     "name": "stderr",
     "output_type": "stream",
     "text": [
      "Epoch 8: 100%|██████████| 293049/293049 [04:14<00:00, 1152.64it/s]\n",
      "  1%|          | 384/32561 [00:00<00:08, 3836.44it/s]"
     ]
    },
    {
     "name": "stdout",
     "output_type": "stream",
     "text": [
      "Finding the cluster IDs for all data points\n"
     ]
    },
    {
     "name": "stderr",
     "output_type": "stream",
     "text": [
      "100%|██████████| 32561/32561 [00:08<00:00, 3805.86it/s]\n",
      "  1%|▏         | 4/271 [00:00<00:15, 17.47it/s]"
     ]
    },
    {
     "name": "stdout",
     "output_type": "stream",
     "text": [
      "K: 110 , Corr: -0.08967887780114196\n",
      "Working with 271 units and going 9 times over the dataset\n",
      "Precalculating neighbour scores\n"
     ]
    },
    {
     "name": "stderr",
     "output_type": "stream",
     "text": [
      "100%|██████████| 271/271 [00:16<00:00, 16.82it/s]\n",
      "Epoch 0:   0%|          | 227/293049 [00:00<04:42, 1034.76it/s]"
     ]
    },
    {
     "name": "stdout",
     "output_type": "stream",
     "text": [
      "Training the SOM\n"
     ]
    },
    {
     "name": "stderr",
     "output_type": "stream",
     "text": [
      "Epoch 8: 100%|██████████| 293049/293049 [03:54<00:00, 1250.93it/s]\n",
      "  1%|▏         | 425/32561 [00:00<00:07, 4227.18it/s]"
     ]
    },
    {
     "name": "stdout",
     "output_type": "stream",
     "text": [
      "Finding the cluster IDs for all data points\n"
     ]
    },
    {
     "name": "stderr",
     "output_type": "stream",
     "text": [
      "100%|██████████| 32561/32561 [00:07<00:00, 4176.81it/s]\n",
      "  2%|▏         | 5/250 [00:00<00:14, 16.86it/s]"
     ]
    },
    {
     "name": "stdout",
     "output_type": "stream",
     "text": [
      "K: 120 , Corr: 0.005047235660060145\n",
      "Working with 250 units and going 9 times over the dataset\n",
      "Precalculating neighbour scores\n"
     ]
    },
    {
     "name": "stderr",
     "output_type": "stream",
     "text": [
      "100%|██████████| 250/250 [00:13<00:00, 18.54it/s]\n",
      "Epoch 0:   0%|          | 126/293049 [00:00<03:52, 1257.91it/s]"
     ]
    },
    {
     "name": "stdout",
     "output_type": "stream",
     "text": [
      "Training the SOM\n"
     ]
    },
    {
     "name": "stderr",
     "output_type": "stream",
     "text": [
      "Epoch 8: 100%|██████████| 293049/293049 [03:36<00:00, 1356.32it/s]\n",
      "  2%|▏         | 789/32561 [00:00<00:08, 3811.74it/s]"
     ]
    },
    {
     "name": "stdout",
     "output_type": "stream",
     "text": [
      "Finding the cluster IDs for all data points\n"
     ]
    },
    {
     "name": "stderr",
     "output_type": "stream",
     "text": [
      "100%|██████████| 32561/32561 [00:07<00:00, 4490.71it/s]\n",
      "  1%|▏         | 3/232 [00:00<00:10, 20.82it/s]"
     ]
    },
    {
     "name": "stdout",
     "output_type": "stream",
     "text": [
      "K: 130 , Corr: 0.09443997547739912\n",
      "Working with 232 units and going 9 times over the dataset\n",
      "Precalculating neighbour scores\n"
     ]
    },
    {
     "name": "stderr",
     "output_type": "stream",
     "text": [
      "100%|██████████| 232/232 [00:11<00:00, 20.82it/s]\n",
      "Epoch 0:   0%|          | 255/293049 [00:00<04:17, 1138.60it/s]"
     ]
    },
    {
     "name": "stdout",
     "output_type": "stream",
     "text": [
      "Training the SOM\n"
     ]
    },
    {
     "name": "stderr",
     "output_type": "stream",
     "text": [
      "Epoch 8: 100%|██████████| 293049/293049 [03:14<00:00, 1510.10it/s]\n",
      "  3%|▎         | 945/32561 [00:00<00:06, 4682.73it/s]"
     ]
    },
    {
     "name": "stdout",
     "output_type": "stream",
     "text": [
      "Finding the cluster IDs for all data points\n"
     ]
    },
    {
     "name": "stderr",
     "output_type": "stream",
     "text": [
      "100%|██████████| 32561/32561 [00:06<00:00, 4835.33it/s]\n",
      "  2%|▏         | 5/217 [00:00<00:10, 19.39it/s]"
     ]
    },
    {
     "name": "stdout",
     "output_type": "stream",
     "text": [
      "K: 140 , Corr: 0.061717956952840346\n",
      "Working with 217 units and going 9 times over the dataset\n",
      "Precalculating neighbour scores\n"
     ]
    },
    {
     "name": "stderr",
     "output_type": "stream",
     "text": [
      "100%|██████████| 217/217 [00:10<00:00, 21.69it/s]\n",
      "Epoch 0:   0%|          | 284/293049 [00:00<03:28, 1401.44it/s]"
     ]
    },
    {
     "name": "stdout",
     "output_type": "stream",
     "text": [
      "Training the SOM\n"
     ]
    },
    {
     "name": "stderr",
     "output_type": "stream",
     "text": [
      "Epoch 8: 100%|██████████| 293049/293049 [03:14<00:00, 1509.61it/s]\n",
      "  3%|▎         | 1027/32561 [00:00<00:06, 5109.98it/s]"
     ]
    },
    {
     "name": "stdout",
     "output_type": "stream",
     "text": [
      "Finding the cluster IDs for all data points\n"
     ]
    },
    {
     "name": "stderr",
     "output_type": "stream",
     "text": [
      "100%|██████████| 32561/32561 [00:06<00:00, 5211.56it/s]\n",
      "  1%|▏         | 3/203 [00:00<00:09, 22.13it/s]"
     ]
    },
    {
     "name": "stdout",
     "output_type": "stream",
     "text": [
      "K: 150 , Corr: 0.09458136163528467\n",
      "Working with 203 units and going 9 times over the dataset\n",
      "Precalculating neighbour scores\n"
     ]
    },
    {
     "name": "stderr",
     "output_type": "stream",
     "text": [
      "100%|██████████| 203/203 [00:08<00:00, 23.06it/s]\n",
      "Epoch 0:   0%|          | 153/293049 [00:00<03:12, 1525.09it/s]"
     ]
    },
    {
     "name": "stdout",
     "output_type": "stream",
     "text": [
      "Training the SOM\n"
     ]
    },
    {
     "name": "stderr",
     "output_type": "stream",
     "text": [
      "Epoch 8: 100%|██████████| 293049/293049 [03:09<00:00, 1544.77it/s]\n",
      "  1%|▏         | 425/32561 [00:00<00:07, 4247.11it/s]"
     ]
    },
    {
     "name": "stdout",
     "output_type": "stream",
     "text": [
      "Finding the cluster IDs for all data points\n"
     ]
    },
    {
     "name": "stderr",
     "output_type": "stream",
     "text": [
      "100%|██████████| 32561/32561 [00:06<00:00, 5297.86it/s]\n",
      "  3%|▎         | 6/191 [00:00<00:07, 23.74it/s]"
     ]
    },
    {
     "name": "stdout",
     "output_type": "stream",
     "text": [
      "K: 160 , Corr: -0.09292777442654365\n",
      "Working with 191 units and going 9 times over the dataset\n",
      "Precalculating neighbour scores\n"
     ]
    },
    {
     "name": "stderr",
     "output_type": "stream",
     "text": [
      "100%|██████████| 191/191 [00:07<00:00, 25.00it/s]\n",
      "Epoch 0:   0%|          | 252/293049 [00:00<04:21, 1118.89it/s]"
     ]
    },
    {
     "name": "stdout",
     "output_type": "stream",
     "text": [
      "Training the SOM\n"
     ]
    },
    {
     "name": "stderr",
     "output_type": "stream",
     "text": [
      "Epoch 8: 100%|██████████| 293049/293049 [03:04<00:00, 1590.45it/s]\n",
      "  1%|          | 348/32561 [00:00<00:09, 3477.32it/s]"
     ]
    },
    {
     "name": "stdout",
     "output_type": "stream",
     "text": [
      "Finding the cluster IDs for all data points\n"
     ]
    },
    {
     "name": "stderr",
     "output_type": "stream",
     "text": [
      "100%|██████████| 32561/32561 [00:06<00:00, 4961.33it/s]\n",
      "  3%|▎         | 6/180 [00:00<00:06, 27.52it/s]"
     ]
    },
    {
     "name": "stdout",
     "output_type": "stream",
     "text": [
      "K: 170 , Corr: 0.09107163767028945\n",
      "Working with 180 units and going 9 times over the dataset\n",
      "Precalculating neighbour scores\n"
     ]
    },
    {
     "name": "stderr",
     "output_type": "stream",
     "text": [
      "100%|██████████| 180/180 [00:06<00:00, 26.67it/s]\n",
      "Epoch 0:   0%|          | 272/293049 [00:00<04:00, 1216.20it/s]"
     ]
    },
    {
     "name": "stdout",
     "output_type": "stream",
     "text": [
      "Training the SOM\n"
     ]
    },
    {
     "name": "stderr",
     "output_type": "stream",
     "text": [
      "Epoch 8: 100%|██████████| 293049/293049 [02:53<00:00, 1691.95it/s]\n",
      "  2%|▏         | 640/32561 [00:00<00:04, 6393.86it/s]"
     ]
    },
    {
     "name": "stdout",
     "output_type": "stream",
     "text": [
      "Finding the cluster IDs for all data points\n"
     ]
    },
    {
     "name": "stderr",
     "output_type": "stream",
     "text": [
      "100%|██████████| 32561/32561 [00:05<00:00, 6193.75it/s]\n",
      "  4%|▎         | 6/171 [00:00<00:05, 28.57it/s]"
     ]
    },
    {
     "name": "stdout",
     "output_type": "stream",
     "text": [
      "K: 180 , Corr: 0.08856234879991179\n",
      "Working with 171 units and going 9 times over the dataset\n",
      "Precalculating neighbour scores\n"
     ]
    },
    {
     "name": "stderr",
     "output_type": "stream",
     "text": [
      "100%|██████████| 171/171 [00:06<00:00, 26.74it/s]\n",
      "Epoch 0:   0%|          | 152/293049 [00:00<03:13, 1514.99it/s]"
     ]
    },
    {
     "name": "stdout",
     "output_type": "stream",
     "text": [
      "Training the SOM\n"
     ]
    },
    {
     "name": "stderr",
     "output_type": "stream",
     "text": [
      "Epoch 8: 100%|██████████| 293049/293049 [02:28<00:00, 1973.47it/s]\n",
      "  4%|▍         | 1360/32561 [00:00<00:04, 6817.09it/s]"
     ]
    },
    {
     "name": "stdout",
     "output_type": "stream",
     "text": [
      "Finding the cluster IDs for all data points\n"
     ]
    },
    {
     "name": "stderr",
     "output_type": "stream",
     "text": [
      "100%|██████████| 32561/32561 [00:04<00:00, 6782.50it/s]"
     ]
    },
    {
     "name": "stdout",
     "output_type": "stream",
     "text": [
      "K: 190 , Corr: 0.08650201060511974\n"
     ]
    },
    {
     "name": "stderr",
     "output_type": "stream",
     "text": [
      "\n"
     ]
    }
   ],
   "source": [
    "hyperparameter_tuning=[]\n",
    "for i in range(100,200,10): # range to run the search. first parameter is start, secont is end, third is step\n",
    "    out_cluster_ids = som_transform(adult_df_encoded_normalized.values,desired_k = i, max_iterations = None)\n",
    "    adult_df_out=adult_df.drop(['age','education_num','capital_gain','capital_loss','hours_per_week','income_class','fnlwgt'], axis=1)\n",
    "    adult_df_out['SOM']=out_cluster_ids\n",
    "    adult_df_out['income_class']=adult_df['income_class']\n",
    "    corr=adult_df_out.corr()['SOM']['income_class']\n",
    "    result_dict={}\n",
    "    result_dict['K']=i\n",
    "    result_dict['corr']=corr\n",
    "    hyperparameter_tuning.append(result_dict)\n",
    "    print('K:',i,', Corr:',corr)"
   ]
  },
  {
   "cell_type": "code",
   "execution_count": 37,
   "metadata": {},
   "outputs": [
    {
     "data": {
      "text/plain": [
       "[{'K': 100, 'corr': -0.08836549952648577},\n",
       " {'K': 110, 'corr': -0.08967887780114196},\n",
       " {'K': 120, 'corr': 0.005047235660060145},\n",
       " {'K': 130, 'corr': 0.09443997547739912},\n",
       " {'K': 140, 'corr': 0.061717956952840346},\n",
       " {'K': 150, 'corr': 0.09458136163528467},\n",
       " {'K': 160, 'corr': -0.09292777442654365},\n",
       " {'K': 170, 'corr': 0.09107163767028945},\n",
       " {'K': 180, 'corr': 0.08856234879991179},\n",
       " {'K': 190, 'corr': 0.08650201060511974}]"
      ]
     },
     "execution_count": 37,
     "metadata": {},
     "output_type": "execute_result"
    }
   ],
   "source": [
    "hyperparameter_tuning"
   ]
  },
  {
   "cell_type": "code",
   "execution_count": 40,
   "metadata": {},
   "outputs": [],
   "source": [
    "adult_df_out.to_csv('data/Fulladult_SOM.data',header=False, index=False)"
   ]
  },
  {
   "cell_type": "code",
   "execution_count": null,
   "metadata": {},
   "outputs": [],
   "source": []
  },
  {
   "cell_type": "markdown",
   "metadata": {},
   "source": [
    "Because SOM does not guarantee k-annonmity we will have an additional adjustment stage afterwards."
   ]
  },
  {
   "cell_type": "markdown",
   "metadata": {},
   "source": [
    "## Adjustment stage from One pass k-means algorithm"
   ]
  },
  {
   "cell_type": "markdown",
   "metadata": {},
   "source": [
    "The centroid is defined per attribute in the following manner. \n",
    "\n",
    "For numeric attributes the central number is just the mean. \n",
    "\n",
    "For categorical attributes, the central label is the matching parent of all labels present in the cluster for that attribute."
   ]
  },
  {
   "cell_type": "code",
   "execution_count": 35,
   "metadata": {},
   "outputs": [],
   "source": [
    "def oka_centroid(cluster):\n",
    "    \"\"\"\n",
    "    Find the centroid of the cluster as defined in the One Pass K-Means paper.\n",
    "    \n",
    "    :param: cluster is a pandas dataframe\n",
    "    \"\"\"\n",
    "    numeric_attributes = cluster.iloc[:, 7:].mean().values.tolist()\n",
    "    \n",
    "    # Matching parent for all pairs of leaves in this cluster\n",
    "    categorical_attributes = []\n",
    "    \n",
    "    for fid in range(len(categorical_attributes_order)):\n",
    "        labels = cluster.iloc[:, fid].unique()\n",
    "        attr   = categorical_attributes_order[fid]\n",
    "        tree   = trees[attr]\n",
    "        \n",
    "        parent = tree.find_matching_parent_many(labels)\n",
    "            \n",
    "        categorical_attributes.append(parent.value)\n",
    "        \n",
    "    # + here stands for list concatenation\n",
    "    return np.array(categorical_attributes + numeric_attributes, dtype=np.object)"
   ]
  },
  {
   "cell_type": "markdown",
   "metadata": {},
   "source": [
    "Because SOM does not ensure that all clusters have more than K members, an additonal adjustment stage must be incorporated.\n",
    "\n",
    "This also comes from the OKA paper. The two screenshots below are descriptions of the algorithm from that paper."
   ]
  },
  {
   "attachments": {
    "f105efd6-cb97-40f4-be07-305ab239be6a.png": {
     "image/png": "[encoded data removed]"
    }
   },
   "cell_type": "markdown",
   "metadata": {},
   "source": [
    "![image.png](attachment:f105efd6-cb97-40f4-be07-305ab239be6a.png)"
   ]
  },
  {
   "attachments": {
    "495ebf34-d551-415f-b5b3-c06e68ced5e7.png": {
     "image/png": "[encoded data removed]"
    }
   },
   "cell_type": "markdown",
   "metadata": {},
   "source": [
    "![image.png](attachment:495ebf34-d551-415f-b5b3-c06e68ced5e7.png)"
   ]
  },
  {
   "cell_type": "code",
   "execution_count": 36,
   "metadata": {},
   "outputs": [],
   "source": [
    "def adjustment_stage(dataset, desired_k = 50):\n",
    "    \"\"\"\n",
    "    \n",
    "    \"\"\"\n",
    "    adjusted_cluster = dataset['equivalence_class'].copy()\n",
    "    \n",
    "    record_index     = np.arange(0, dataset.shape[0])\n",
    "    \n",
    "    dataset.set_index(record_index, inplace=True)\n",
    "    \n",
    "    n_clusters = dataset['equivalence_class'].nunique()\n",
    "    \n",
    "    clusters = { cl_id: dataset[dataset.equivalence_class == cl_id].drop('equivalence_class', axis=1).copy()\n",
    "                 for cl_id in range(n_clusters)}\n",
    "    centroids = { cl_id: oka_centroid(cluster)\n",
    "                 for cl_id, cluster in tqdm.tqdm(clusters.items())}\n",
    "        \n",
    "    R = []\n",
    "    \n",
    "    # Collect records far away from centroids for big clusters\n",
    "    for cl_id, cluster_data in tqdm.tqdm(clusters.items(), total=n_clusters):\n",
    "        if cluster_data.shape[0] <= desired_k:\n",
    "            continue\n",
    "        \n",
    "        cluster_data['dist_to_centroid'] = cluster_data.apply(lambda r: \n",
    "                                                                  kmember_distance(r.values,\n",
    "                                                                                   centroids[cl_id],\n",
    "                                                                                   single_attr_distances),\n",
    "                                                              axis=1)\n",
    "        cluster_data.sort_values(by='dist_to_centroid', ascending=False, inplace=True)\n",
    "        cluster_data.drop('dist_to_centroid', axis=1, inplace=True)\n",
    "        \n",
    "        for i in range(0, cluster_data.shape[0] - desired_k):\n",
    "            record = cluster_data.iloc[i, :]\n",
    "            \n",
    "            index = record.__dict__['_name']\n",
    "            \n",
    "            # Update the adjusted cluster array so we know this record is no longer in this cluster\n",
    "            adjusted_cluster[index] = -1\n",
    "            \n",
    "            R.append(record)\n",
    "            \n",
    "    processed = set()\n",
    "            \n",
    "    # Distribute records to clusters where they are needed\n",
    "    for record in tqdm.tqdm(R):\n",
    "        min_d = 10000000\n",
    "        best_cluster = -1\n",
    "        for cluster_id, cluster in clusters.items():\n",
    "            if (adjusted_cluster == cluster_id).sum() > desired_k:\n",
    "                continue\n",
    "                \n",
    "            d = kmember_distance(record.values, centroids[cluster_id], single_attr_distances)\n",
    "            if d <= min_d:\n",
    "                min_d = d\n",
    "                best_cluster = cluster_id\n",
    "        \n",
    "        index = record.__dict__['_name']\n",
    "        adjusted_cluster[index] = best_cluster\n",
    "        processed = processed.union({tuple(record.values.tolist())})\n",
    "                \n",
    "    # Distribute remaining records anywhere\n",
    "    for record in tqdm.tqdm(R):\n",
    "        if tuple(record.values.tolist()) in processed:\n",
    "            continue\n",
    "            \n",
    "        min_d = 10000000\n",
    "        best_cluster = -1\n",
    "        for cluster_id, cluster in clusters.items():\n",
    "            d = kmember_distance(record.values, centroids[cluster_id], single_attr_distances)\n",
    "            if d <= min_d:\n",
    "                min_d = d\n",
    "                best_cluster = cluster_id\n",
    "                \n",
    "        index = record.__dict__['_name']\n",
    "        adjusted_cluster[index] = best_cluster\n",
    "        \n",
    "    dataset['equivalence_class'] = adjusted_cluster\n",
    "    \n",
    "    return dataset"
   ]
  },
  {
   "cell_type": "code",
   "execution_count": 37,
   "metadata": {},
   "outputs": [
    {
     "name": "stderr",
     "output_type": "stream",
     "text": [
      "100%|██████████| 162/162 [00:01<00:00, 113.04it/s]\n",
      "100%|██████████| 162/162 [00:07<00:00, 20.89it/s]\n",
      "100%|██████████| 16976/16976 [20:03<00:00, 14.11it/s] \n",
      "100%|██████████| 16976/16976 [00:00<00:00, 236441.63it/s]\n"
     ]
    },
    {
     "data": {
      "text/html": [
       "<div>\n",
       "<style scoped>\n",
       "    .dataframe tbody tr th:only-of-type {\n",
       "        vertical-align: middle;\n",
       "    }\n",
       "\n",
       "    .dataframe tbody tr th {\n",
       "        vertical-align: top;\n",
       "    }\n",
       "\n",
       "    .dataframe thead th {\n",
       "        text-align: right;\n",
       "    }\n",
       "</style>\n",
       "<table border=\"1\" class=\"dataframe\">\n",
       "  <thead>\n",
       "    <tr style=\"text-align: right;\">\n",
       "      <th></th>\n",
       "      <th>marital_status</th>\n",
       "      <th>native_country</th>\n",
       "      <th>occupation</th>\n",
       "      <th>workclass</th>\n",
       "      <th>relationship</th>\n",
       "      <th>race</th>\n",
       "      <th>sex</th>\n",
       "      <th>age</th>\n",
       "      <th>education_num</th>\n",
       "      <th>capital_gain</th>\n",
       "      <th>capital_loss</th>\n",
       "      <th>hours_per_week</th>\n",
       "      <th>equivalence_class</th>\n",
       "      <th>income_class</th>\n",
       "    </tr>\n",
       "  </thead>\n",
       "  <tbody>\n",
       "    <tr>\n",
       "      <th>0</th>\n",
       "      <td>Never-married</td>\n",
       "      <td>United-States</td>\n",
       "      <td>Adm-clerical</td>\n",
       "      <td>State-gov</td>\n",
       "      <td>Not-in-family</td>\n",
       "      <td>White</td>\n",
       "      <td>Male</td>\n",
       "      <td>39</td>\n",
       "      <td>13</td>\n",
       "      <td>2174</td>\n",
       "      <td>0</td>\n",
       "      <td>40</td>\n",
       "      <td>104</td>\n",
       "      <td>0</td>\n",
       "    </tr>\n",
       "    <tr>\n",
       "      <th>1</th>\n",
       "      <td>Married-civ-spouse</td>\n",
       "      <td>United-States</td>\n",
       "      <td>Exec-managerial</td>\n",
       "      <td>Self-emp-not-inc</td>\n",
       "      <td>Husband</td>\n",
       "      <td>White</td>\n",
       "      <td>Male</td>\n",
       "      <td>50</td>\n",
       "      <td>13</td>\n",
       "      <td>0</td>\n",
       "      <td>0</td>\n",
       "      <td>13</td>\n",
       "      <td>145</td>\n",
       "      <td>0</td>\n",
       "    </tr>\n",
       "    <tr>\n",
       "      <th>2</th>\n",
       "      <td>Divorced</td>\n",
       "      <td>United-States</td>\n",
       "      <td>Handlers-cleaners</td>\n",
       "      <td>Private</td>\n",
       "      <td>Not-in-family</td>\n",
       "      <td>White</td>\n",
       "      <td>Male</td>\n",
       "      <td>38</td>\n",
       "      <td>9</td>\n",
       "      <td>0</td>\n",
       "      <td>0</td>\n",
       "      <td>40</td>\n",
       "      <td>99</td>\n",
       "      <td>0</td>\n",
       "    </tr>\n",
       "    <tr>\n",
       "      <th>3</th>\n",
       "      <td>Married-civ-spouse</td>\n",
       "      <td>United-States</td>\n",
       "      <td>Handlers-cleaners</td>\n",
       "      <td>Private</td>\n",
       "      <td>Husband</td>\n",
       "      <td>Black</td>\n",
       "      <td>Male</td>\n",
       "      <td>53</td>\n",
       "      <td>7</td>\n",
       "      <td>0</td>\n",
       "      <td>0</td>\n",
       "      <td>40</td>\n",
       "      <td>112</td>\n",
       "      <td>0</td>\n",
       "    </tr>\n",
       "    <tr>\n",
       "      <th>4</th>\n",
       "      <td>Married-civ-spouse</td>\n",
       "      <td>Cuba</td>\n",
       "      <td>Prof-specialty</td>\n",
       "      <td>Private</td>\n",
       "      <td>Wife</td>\n",
       "      <td>Black</td>\n",
       "      <td>Female</td>\n",
       "      <td>28</td>\n",
       "      <td>13</td>\n",
       "      <td>0</td>\n",
       "      <td>0</td>\n",
       "      <td>40</td>\n",
       "      <td>18</td>\n",
       "      <td>0</td>\n",
       "    </tr>\n",
       "  </tbody>\n",
       "</table>\n",
       "</div>"
      ],
      "text/plain": [
       "       marital_status native_country         occupation         workclass  \\\n",
       "0       Never-married  United-States       Adm-clerical         State-gov   \n",
       "1  Married-civ-spouse  United-States    Exec-managerial  Self-emp-not-inc   \n",
       "2            Divorced  United-States  Handlers-cleaners           Private   \n",
       "3  Married-civ-spouse  United-States  Handlers-cleaners           Private   \n",
       "4  Married-civ-spouse           Cuba     Prof-specialty           Private   \n",
       "\n",
       "    relationship   race     sex  age  education_num  capital_gain  \\\n",
       "0  Not-in-family  White    Male   39             13          2174   \n",
       "1        Husband  White    Male   50             13             0   \n",
       "2  Not-in-family  White    Male   38              9             0   \n",
       "3        Husband  Black    Male   53              7             0   \n",
       "4           Wife  Black  Female   28             13             0   \n",
       "\n",
       "   capital_loss  hours_per_week  equivalence_class  income_class  \n",
       "0             0              40                104             0  \n",
       "1             0              13                145             0  \n",
       "2             0              40                 99             0  \n",
       "3             0              40                112             0  \n",
       "4             0              40                 18             0  "
      ]
     },
     "execution_count": 37,
     "metadata": {},
     "output_type": "execute_result"
    }
   ],
   "source": [
    "adult_df_out = adult_df.copy()\n",
    "\n",
    "adult_df_out['equivalence_class'] = out_cluster_ids\n",
    "\n",
    "income_cls = adult_df_out['income_class']\n",
    "adult_df_out = adjustment_stage(adult_df_out.drop('income_class', axis=1), desired_k = 200)\n",
    "adult_df_out['income_class'] = income_cls\n",
    "\n",
    "adult_df_out.head()"
   ]
  },
  {
   "cell_type": "code",
   "execution_count": 38,
   "metadata": {},
   "outputs": [],
   "source": [
    "adult_df_out.to_csv('data/adult.som.adj.out', index=False)"
   ]
  },
  {
   "cell_type": "code",
   "execution_count": 39,
   "metadata": {},
   "outputs": [
    {
     "data": {
      "text/plain": [
       "98466.89999637491"
      ]
     },
     "execution_count": 39,
     "metadata": {},
     "output_type": "execute_result"
    }
   ],
   "source": [
    "information_loss(adult_df_out.drop('income_class', axis=1))"
   ]
  },
  {
   "cell_type": "markdown",
   "metadata": {},
   "source": [
    "### Generalization per equivalence class"
   ]
  },
  {
   "cell_type": "code",
   "execution_count": 40,
   "metadata": {},
   "outputs": [],
   "source": [
    "adult_df_out_gen = adult_df_out.copy()"
   ]
  },
  {
   "cell_type": "code",
   "execution_count": 41,
   "metadata": {},
   "outputs": [],
   "source": [
    "# __centroids = adult_df_out_gen.drop('income_class', axis=1)\\\n",
    "#                               .groupby('equivalence_class')\\\n",
    "#                               .apply(lambda g: oka_centroid(g.drop('equivalence_class', axis=1).reset_index())).reset_index()\n",
    "\n",
    "# __centroids.head()"
   ]
  },
  {
   "cell_type": "code",
   "execution_count": 42,
   "metadata": {},
   "outputs": [],
   "source": [
    "# adult_df_out_gen['generalized_marital'] = adult_df_out_gen['centroids'].apply(lambda c: c[0])\n",
    "\n",
    "# adult_df_out_gen.head()"
   ]
  },
  {
   "cell_type": "code",
   "execution_count": 43,
   "metadata": {},
   "outputs": [],
   "source": [
    "# adult_df_out_gen.to_csv('data/adult.som.general.out', index=False)"
   ]
  },
  {
   "cell_type": "markdown",
   "metadata": {},
   "source": [
    "### Statistics over the equivalence classes / SOM Units "
   ]
  },
  {
   "cell_type": "markdown",
   "metadata": {},
   "source": [
    "#### Number of equiv. classes"
   ]
  },
  {
   "cell_type": "code",
   "execution_count": 44,
   "metadata": {},
   "outputs": [
    {
     "data": {
      "text/plain": [
       "162"
      ]
     },
     "execution_count": 44,
     "metadata": {},
     "output_type": "execute_result"
    }
   ],
   "source": [
    "adult_df_out.equivalence_class.nunique()"
   ]
  },
  {
   "cell_type": "markdown",
   "metadata": {},
   "source": [
    "##### Number of data points per equiv. class"
   ]
  },
  {
   "cell_type": "code",
   "execution_count": 45,
   "metadata": {},
   "outputs": [
    {
     "data": {
      "text/plain": [
       "159    201\n",
       "143    201\n",
       "101    201\n",
       "85     201\n",
       "69     201\n",
       "      ... \n",
       "74     201\n",
       "58     201\n",
       "42     201\n",
       "0      201\n",
       "68     200\n",
       "Name: equivalence_class, Length: 162, dtype: int64"
      ]
     },
     "execution_count": 45,
     "metadata": {},
     "output_type": "execute_result"
    }
   ],
   "source": [
    "adult_df_out.equivalence_class.value_counts()"
   ]
  },
  {
   "cell_type": "code",
   "execution_count": 46,
   "metadata": {},
   "outputs": [
    {
     "data": {
      "text/plain": [
       "<matplotlib.axes._subplots.AxesSubplot at 0x1a2338b450>"
      ]
     },
     "execution_count": 46,
     "metadata": {},
     "output_type": "execute_result"
    },
    {
     "data": {
      "image/png": "[encoded data removed]",
      "text/plain": [
       "<Figure size 576x576 with 1 Axes>"
      ]
     },
     "metadata": {
      "needs_background": "light"
     },
     "output_type": "display_data"
    }
   ],
   "source": [
    "plt.figure(figsize=(8, 8))\n",
    "adult_df_out.equivalence_class.value_counts().plot(kind='bar', ax=plt.gca())"
   ]
  },
  {
   "cell_type": "markdown",
   "metadata": {},
   "source": [
    "### Number of clusters with less than 200 instances"
   ]
  },
  {
   "cell_type": "code",
   "execution_count": 47,
   "metadata": {},
   "outputs": [
    {
     "name": "stdout",
     "output_type": "stream",
     "text": [
      "0 0.0\n"
     ]
    }
   ],
   "source": [
    "nsubk = (adult_df_out.equivalence_class.value_counts() < 200).sum()\n",
    "\n",
    "print(nsubk, nsubk / adult_df_out.equivalence_class.nunique())"
   ]
  },
  {
   "cell_type": "markdown",
   "metadata": {},
   "source": [
    "### Number of instances in all insecure clusters\n",
    "\n",
    "This should drop to 0 once the adjust algorithm is implemented"
   ]
  },
  {
   "cell_type": "code",
   "execution_count": 36,
   "metadata": {},
   "outputs": [
    {
     "ename": "NameError",
     "evalue": "name 'adult_df_out' is not defined",
     "output_type": "error",
     "traceback": [
      "\u001b[1;31m---------------------------------------------------------------------------\u001b[0m",
      "\u001b[1;31mNameError\u001b[0m                                 Traceback (most recent call last)",
      "\u001b[1;32m<ipython-input-36-185a07075c67>\u001b[0m in \u001b[0;36m<module>\u001b[1;34m\u001b[0m\n\u001b[1;32m----> 1\u001b[1;33m \u001b[0mis_insecure\u001b[0m \u001b[1;33m=\u001b[0m \u001b[0madult_df_out\u001b[0m\u001b[1;33m[\u001b[0m\u001b[1;34m'equivalence_class'\u001b[0m\u001b[1;33m]\u001b[0m\u001b[1;33m.\u001b[0m\u001b[0mmap\u001b[0m\u001b[1;33m(\u001b[0m\u001b[1;33m(\u001b[0m\u001b[0madult_df_out\u001b[0m\u001b[1;33m.\u001b[0m\u001b[0mequivalence_class\u001b[0m\u001b[1;33m.\u001b[0m\u001b[0mvalue_counts\u001b[0m\u001b[1;33m(\u001b[0m\u001b[1;33m)\u001b[0m \u001b[1;33m<\u001b[0m \u001b[1;36m200\u001b[0m\u001b[1;33m)\u001b[0m\u001b[1;33m.\u001b[0m\u001b[0mto_dict\u001b[0m\u001b[1;33m(\u001b[0m\u001b[1;33m)\u001b[0m\u001b[1;33m)\u001b[0m\u001b[1;33m\u001b[0m\u001b[1;33m\u001b[0m\u001b[0m\n\u001b[0m\u001b[0;32m      2\u001b[0m \u001b[1;33m\u001b[0m\u001b[0m\n\u001b[0;32m      3\u001b[0m \u001b[0mis_insecure\u001b[0m\u001b[1;33m.\u001b[0m\u001b[0msum\u001b[0m\u001b[1;33m(\u001b[0m\u001b[1;33m)\u001b[0m\u001b[1;33m,\u001b[0m \u001b[0mis_insecure\u001b[0m\u001b[1;33m.\u001b[0m\u001b[0msum\u001b[0m\u001b[1;33m(\u001b[0m\u001b[1;33m)\u001b[0m \u001b[1;33m/\u001b[0m \u001b[0mis_insecure\u001b[0m\u001b[1;33m.\u001b[0m\u001b[0mshape\u001b[0m\u001b[1;33m[\u001b[0m\u001b[1;36m0\u001b[0m\u001b[1;33m]\u001b[0m\u001b[1;33m\u001b[0m\u001b[1;33m\u001b[0m\u001b[0m\n",
      "\u001b[1;31mNameError\u001b[0m: name 'adult_df_out' is not defined"
     ]
    }
   ],
   "source": [
    "is_insecure = adult_df_out['equivalence_class'].map((adult_df_out.equivalence_class.value_counts() < 200).to_dict())\n",
    "\n",
    "is_insecure.sum(), is_insecure.sum() / is_insecure.shape[0]"
   ]
  },
  {
   "cell_type": "code",
   "execution_count": null,
   "metadata": {},
   "outputs": [],
   "source": []
  }
 ],
 "metadata": {
  "kernelspec": {
   "display_name": "Python 3",
   "language": "python",
   "name": "python3"
  },
  "language_info": {
   "codemirror_mode": {
    "name": "ipython",
    "version": 3
   },
   "file_extension": ".py",
   "mimetype": "text/x-python",
   "name": "python",
   "nbconvert_exporter": "python",
   "pygments_lexer": "ipython3",
   "version": "3.7.6"
  }
 },
 "nbformat": 4,
 "nbformat_minor": 4
}
